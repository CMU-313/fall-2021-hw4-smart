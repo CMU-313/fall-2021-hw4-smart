{
 "cells": [
  {
   "cell_type": "code",
   "execution_count": 1,
   "metadata": {},
   "outputs": [],
   "source": [
    "import pandas as pd\n",
    "import numpy as np\n",
    "from sklearn import preprocessing\n",
    "from sklearn.ensemble import RandomForestClassifier\n",
    "from sklearn.model_selection import train_test_split\n",
    "\n",
    "df = pd.read_csv('data/student-mat.csv', sep=';')\n",
    "df['qual_student'] = np.where(df['G3']>=15, 1, 0)\n",
    "X = df.drop(['qual_student','G3'], axis=1)\n",
    "y = df['qual_student']\n",
    "\n",
    "X['schoolsup'] = X['schoolsup'].replace(to_replace=['no','yes'],value=[0,1])\n",
    "X['famsup'] = X['famsup'].replace(to_replace=['no','yes'],value=[0,1])\n",
    "X['activities'] = X['activities'].replace(to_replace=['no','yes'],value=[0,1])\n",
    "X['higher'] = X['higher'].replace(to_replace=['no','yes'],value=[0,1])\n",
    "X['internet'] = X['internet'].replace(to_replace=['no','yes'],value=[0,1])\n",
    "\n",
    "X_train, X_test, y_train, y_test = train_test_split(X, y, test_size=0.3)"
   ]
  },
  {
   "cell_type": "code",
   "execution_count": 2,
   "metadata": {
    "scrolled": true
   },
   "outputs": [
    {
     "data": {
      "text/html": [
       "<div>\n",
       "<style scoped>\n",
       "    .dataframe tbody tr th:only-of-type {\n",
       "        vertical-align: middle;\n",
       "    }\n",
       "\n",
       "    .dataframe tbody tr th {\n",
       "        vertical-align: top;\n",
       "    }\n",
       "\n",
       "    .dataframe thead th {\n",
       "        text-align: right;\n",
       "    }\n",
       "</style>\n",
       "<table border=\"1\" class=\"dataframe\">\n",
       "  <thead>\n",
       "    <tr style=\"text-align: right;\">\n",
       "      <th></th>\n",
       "      <th>age</th>\n",
       "      <th>Medu</th>\n",
       "      <th>Fedu</th>\n",
       "      <th>traveltime</th>\n",
       "      <th>studytime</th>\n",
       "      <th>failures</th>\n",
       "      <th>schoolsup</th>\n",
       "      <th>famsup</th>\n",
       "      <th>activities</th>\n",
       "      <th>higher</th>\n",
       "      <th>internet</th>\n",
       "      <th>famrel</th>\n",
       "      <th>freetime</th>\n",
       "      <th>goout</th>\n",
       "      <th>Dalc</th>\n",
       "      <th>Walc</th>\n",
       "      <th>health</th>\n",
       "      <th>absences</th>\n",
       "      <th>G1</th>\n",
       "      <th>G2</th>\n",
       "    </tr>\n",
       "  </thead>\n",
       "  <tbody>\n",
       "    <tr>\n",
       "      <th>count</th>\n",
       "      <td>276.000000</td>\n",
       "      <td>276.000000</td>\n",
       "      <td>276.000000</td>\n",
       "      <td>276.000000</td>\n",
       "      <td>276.000000</td>\n",
       "      <td>276.000000</td>\n",
       "      <td>276.000000</td>\n",
       "      <td>276.000000</td>\n",
       "      <td>276.000000</td>\n",
       "      <td>276.000000</td>\n",
       "      <td>276.000000</td>\n",
       "      <td>276.000000</td>\n",
       "      <td>276.000000</td>\n",
       "      <td>276.000000</td>\n",
       "      <td>276.000000</td>\n",
       "      <td>276.000000</td>\n",
       "      <td>276.000000</td>\n",
       "      <td>276.000000</td>\n",
       "      <td>276.000000</td>\n",
       "      <td>276.000000</td>\n",
       "    </tr>\n",
       "    <tr>\n",
       "      <th>mean</th>\n",
       "      <td>16.728261</td>\n",
       "      <td>2.746377</td>\n",
       "      <td>2.514493</td>\n",
       "      <td>1.427536</td>\n",
       "      <td>2.043478</td>\n",
       "      <td>0.358696</td>\n",
       "      <td>0.134058</td>\n",
       "      <td>0.608696</td>\n",
       "      <td>0.507246</td>\n",
       "      <td>0.952899</td>\n",
       "      <td>0.840580</td>\n",
       "      <td>3.942029</td>\n",
       "      <td>3.224638</td>\n",
       "      <td>3.079710</td>\n",
       "      <td>1.496377</td>\n",
       "      <td>2.315217</td>\n",
       "      <td>3.525362</td>\n",
       "      <td>5.431159</td>\n",
       "      <td>10.923913</td>\n",
       "      <td>10.663043</td>\n",
       "    </tr>\n",
       "    <tr>\n",
       "      <th>std</th>\n",
       "      <td>1.299818</td>\n",
       "      <td>1.109048</td>\n",
       "      <td>1.090358</td>\n",
       "      <td>0.696878</td>\n",
       "      <td>0.843107</td>\n",
       "      <td>0.794273</td>\n",
       "      <td>0.341334</td>\n",
       "      <td>0.488929</td>\n",
       "      <td>0.500856</td>\n",
       "      <td>0.212241</td>\n",
       "      <td>0.366733</td>\n",
       "      <td>0.916659</td>\n",
       "      <td>0.998312</td>\n",
       "      <td>1.102471</td>\n",
       "      <td>0.916508</td>\n",
       "      <td>1.295553</td>\n",
       "      <td>1.391954</td>\n",
       "      <td>7.896994</td>\n",
       "      <td>3.405558</td>\n",
       "      <td>3.931996</td>\n",
       "    </tr>\n",
       "    <tr>\n",
       "      <th>min</th>\n",
       "      <td>15.000000</td>\n",
       "      <td>0.000000</td>\n",
       "      <td>0.000000</td>\n",
       "      <td>1.000000</td>\n",
       "      <td>1.000000</td>\n",
       "      <td>0.000000</td>\n",
       "      <td>0.000000</td>\n",
       "      <td>0.000000</td>\n",
       "      <td>0.000000</td>\n",
       "      <td>0.000000</td>\n",
       "      <td>0.000000</td>\n",
       "      <td>1.000000</td>\n",
       "      <td>1.000000</td>\n",
       "      <td>1.000000</td>\n",
       "      <td>1.000000</td>\n",
       "      <td>1.000000</td>\n",
       "      <td>1.000000</td>\n",
       "      <td>0.000000</td>\n",
       "      <td>3.000000</td>\n",
       "      <td>0.000000</td>\n",
       "    </tr>\n",
       "    <tr>\n",
       "      <th>25%</th>\n",
       "      <td>16.000000</td>\n",
       "      <td>2.000000</td>\n",
       "      <td>2.000000</td>\n",
       "      <td>1.000000</td>\n",
       "      <td>1.000000</td>\n",
       "      <td>0.000000</td>\n",
       "      <td>0.000000</td>\n",
       "      <td>0.000000</td>\n",
       "      <td>0.000000</td>\n",
       "      <td>1.000000</td>\n",
       "      <td>1.000000</td>\n",
       "      <td>3.000000</td>\n",
       "      <td>3.000000</td>\n",
       "      <td>2.000000</td>\n",
       "      <td>1.000000</td>\n",
       "      <td>1.000000</td>\n",
       "      <td>3.000000</td>\n",
       "      <td>0.000000</td>\n",
       "      <td>8.000000</td>\n",
       "      <td>8.000000</td>\n",
       "    </tr>\n",
       "    <tr>\n",
       "      <th>50%</th>\n",
       "      <td>17.000000</td>\n",
       "      <td>3.000000</td>\n",
       "      <td>2.000000</td>\n",
       "      <td>1.000000</td>\n",
       "      <td>2.000000</td>\n",
       "      <td>0.000000</td>\n",
       "      <td>0.000000</td>\n",
       "      <td>1.000000</td>\n",
       "      <td>1.000000</td>\n",
       "      <td>1.000000</td>\n",
       "      <td>1.000000</td>\n",
       "      <td>4.000000</td>\n",
       "      <td>3.000000</td>\n",
       "      <td>3.000000</td>\n",
       "      <td>1.000000</td>\n",
       "      <td>2.000000</td>\n",
       "      <td>4.000000</td>\n",
       "      <td>4.000000</td>\n",
       "      <td>10.000000</td>\n",
       "      <td>11.000000</td>\n",
       "    </tr>\n",
       "    <tr>\n",
       "      <th>75%</th>\n",
       "      <td>18.000000</td>\n",
       "      <td>4.000000</td>\n",
       "      <td>3.000000</td>\n",
       "      <td>2.000000</td>\n",
       "      <td>2.000000</td>\n",
       "      <td>0.000000</td>\n",
       "      <td>0.000000</td>\n",
       "      <td>1.000000</td>\n",
       "      <td>1.000000</td>\n",
       "      <td>1.000000</td>\n",
       "      <td>1.000000</td>\n",
       "      <td>5.000000</td>\n",
       "      <td>4.000000</td>\n",
       "      <td>4.000000</td>\n",
       "      <td>2.000000</td>\n",
       "      <td>3.000000</td>\n",
       "      <td>5.000000</td>\n",
       "      <td>8.000000</td>\n",
       "      <td>13.000000</td>\n",
       "      <td>13.000000</td>\n",
       "    </tr>\n",
       "    <tr>\n",
       "      <th>max</th>\n",
       "      <td>22.000000</td>\n",
       "      <td>4.000000</td>\n",
       "      <td>4.000000</td>\n",
       "      <td>4.000000</td>\n",
       "      <td>4.000000</td>\n",
       "      <td>3.000000</td>\n",
       "      <td>1.000000</td>\n",
       "      <td>1.000000</td>\n",
       "      <td>1.000000</td>\n",
       "      <td>1.000000</td>\n",
       "      <td>1.000000</td>\n",
       "      <td>5.000000</td>\n",
       "      <td>5.000000</td>\n",
       "      <td>5.000000</td>\n",
       "      <td>5.000000</td>\n",
       "      <td>5.000000</td>\n",
       "      <td>5.000000</td>\n",
       "      <td>75.000000</td>\n",
       "      <td>19.000000</td>\n",
       "      <td>19.000000</td>\n",
       "    </tr>\n",
       "  </tbody>\n",
       "</table>\n",
       "</div>"
      ],
      "text/plain": [
       "              age        Medu        Fedu  traveltime   studytime    failures  \\\n",
       "count  276.000000  276.000000  276.000000  276.000000  276.000000  276.000000   \n",
       "mean    16.728261    2.746377    2.514493    1.427536    2.043478    0.358696   \n",
       "std      1.299818    1.109048    1.090358    0.696878    0.843107    0.794273   \n",
       "min     15.000000    0.000000    0.000000    1.000000    1.000000    0.000000   \n",
       "25%     16.000000    2.000000    2.000000    1.000000    1.000000    0.000000   \n",
       "50%     17.000000    3.000000    2.000000    1.000000    2.000000    0.000000   \n",
       "75%     18.000000    4.000000    3.000000    2.000000    2.000000    0.000000   \n",
       "max     22.000000    4.000000    4.000000    4.000000    4.000000    3.000000   \n",
       "\n",
       "        schoolsup      famsup  activities      higher    internet      famrel  \\\n",
       "count  276.000000  276.000000  276.000000  276.000000  276.000000  276.000000   \n",
       "mean     0.134058    0.608696    0.507246    0.952899    0.840580    3.942029   \n",
       "std      0.341334    0.488929    0.500856    0.212241    0.366733    0.916659   \n",
       "min      0.000000    0.000000    0.000000    0.000000    0.000000    1.000000   \n",
       "25%      0.000000    0.000000    0.000000    1.000000    1.000000    3.000000   \n",
       "50%      0.000000    1.000000    1.000000    1.000000    1.000000    4.000000   \n",
       "75%      0.000000    1.000000    1.000000    1.000000    1.000000    5.000000   \n",
       "max      1.000000    1.000000    1.000000    1.000000    1.000000    5.000000   \n",
       "\n",
       "         freetime       goout        Dalc        Walc      health    absences  \\\n",
       "count  276.000000  276.000000  276.000000  276.000000  276.000000  276.000000   \n",
       "mean     3.224638    3.079710    1.496377    2.315217    3.525362    5.431159   \n",
       "std      0.998312    1.102471    0.916508    1.295553    1.391954    7.896994   \n",
       "min      1.000000    1.000000    1.000000    1.000000    1.000000    0.000000   \n",
       "25%      3.000000    2.000000    1.000000    1.000000    3.000000    0.000000   \n",
       "50%      3.000000    3.000000    1.000000    2.000000    4.000000    4.000000   \n",
       "75%      4.000000    4.000000    2.000000    3.000000    5.000000    8.000000   \n",
       "max      5.000000    5.000000    5.000000    5.000000    5.000000   75.000000   \n",
       "\n",
       "               G1          G2  \n",
       "count  276.000000  276.000000  \n",
       "mean    10.923913   10.663043  \n",
       "std      3.405558    3.931996  \n",
       "min      3.000000    0.000000  \n",
       "25%      8.000000    8.000000  \n",
       "50%     10.000000   11.000000  \n",
       "75%     13.000000   13.000000  \n",
       "max     19.000000   19.000000  "
      ]
     },
     "execution_count": 2,
     "metadata": {},
     "output_type": "execute_result"
    }
   ],
   "source": [
    "X_train.describe()"
   ]
  },
  {
   "cell_type": "code",
   "execution_count": 3,
   "metadata": {
    "scrolled": false
   },
   "outputs": [
    {
     "data": {
      "text/plain": [
       "Index(['school', 'sex', 'age', 'address', 'famsize', 'Pstatus', 'Medu', 'Fedu',\n",
       "       'Mjob', 'Fjob', 'reason', 'guardian', 'traveltime', 'studytime',\n",
       "       'failures', 'schoolsup', 'famsup', 'paid', 'activities', 'nursery',\n",
       "       'higher', 'internet', 'romantic', 'famrel', 'freetime', 'goout', 'Dalc',\n",
       "       'Walc', 'health', 'absences', 'G1', 'G2'],\n",
       "      dtype='object')"
      ]
     },
     "execution_count": 3,
     "metadata": {},
     "output_type": "execute_result"
    }
   ],
   "source": [
    "X_train.columns"
   ]
  },
  {
   "cell_type": "code",
   "execution_count": 4,
   "metadata": {},
   "outputs": [],
   "source": [
    "include = ['studytime','failures','schoolsup','famsup','activities','freetime',\n",
    "           'higher','Dalc','Walc','internet','health','absences']\n",
    "exclude = []\n",
    "X_train = X_train.drop(columns=X_train.columns.difference(include))\n",
    "X_train = X_train.drop(columns=exclude)\n",
    "X_test = X_test.drop(columns=X_test.columns.difference(include))\n",
    "X_test = X_test.drop(columns=exclude)\n",
    "\n",
    "X_train = pd.get_dummies(X_train)\n",
    "X_test = pd.get_dummies(X_test)"
   ]
  },
  {
   "cell_type": "code",
   "execution_count": 5,
   "metadata": {
    "scrolled": true
   },
   "outputs": [
    {
     "data": {
      "text/plain": [
       "Index(['studytime', 'failures', 'schoolsup', 'famsup', 'activities', 'higher',\n",
       "       'internet', 'freetime', 'Dalc', 'Walc', 'health', 'absences'],\n",
       "      dtype='object')"
      ]
     },
     "execution_count": 5,
     "metadata": {},
     "output_type": "execute_result"
    }
   ],
   "source": [
    "X_train.columns"
   ]
  },
  {
   "cell_type": "code",
   "execution_count": 14,
   "metadata": {},
   "outputs": [
    {
     "data": {
      "text/html": [
       "<div>\n",
       "<style scoped>\n",
       "    .dataframe tbody tr th:only-of-type {\n",
       "        vertical-align: middle;\n",
       "    }\n",
       "\n",
       "    .dataframe tbody tr th {\n",
       "        vertical-align: top;\n",
       "    }\n",
       "\n",
       "    .dataframe thead th {\n",
       "        text-align: right;\n",
       "    }\n",
       "</style>\n",
       "<table border=\"1\" class=\"dataframe\">\n",
       "  <thead>\n",
       "    <tr style=\"text-align: right;\">\n",
       "      <th></th>\n",
       "      <th>studytime</th>\n",
       "      <th>failures</th>\n",
       "      <th>schoolsup</th>\n",
       "      <th>famsup</th>\n",
       "      <th>activities</th>\n",
       "      <th>higher</th>\n",
       "      <th>internet</th>\n",
       "      <th>freetime</th>\n",
       "      <th>Dalc</th>\n",
       "      <th>Walc</th>\n",
       "      <th>health</th>\n",
       "      <th>absences</th>\n",
       "    </tr>\n",
       "  </thead>\n",
       "  <tbody>\n",
       "    <tr>\n",
       "      <th>count</th>\n",
       "      <td>276.000000</td>\n",
       "      <td>276.000000</td>\n",
       "      <td>276.000000</td>\n",
       "      <td>276.000000</td>\n",
       "      <td>276.000000</td>\n",
       "      <td>276.000000</td>\n",
       "      <td>276.000000</td>\n",
       "      <td>276.000000</td>\n",
       "      <td>276.000000</td>\n",
       "      <td>276.000000</td>\n",
       "      <td>276.000000</td>\n",
       "      <td>276.000000</td>\n",
       "    </tr>\n",
       "    <tr>\n",
       "      <th>mean</th>\n",
       "      <td>2.043478</td>\n",
       "      <td>0.358696</td>\n",
       "      <td>0.134058</td>\n",
       "      <td>0.608696</td>\n",
       "      <td>0.507246</td>\n",
       "      <td>0.952899</td>\n",
       "      <td>0.840580</td>\n",
       "      <td>3.224638</td>\n",
       "      <td>1.496377</td>\n",
       "      <td>2.315217</td>\n",
       "      <td>3.525362</td>\n",
       "      <td>5.431159</td>\n",
       "    </tr>\n",
       "    <tr>\n",
       "      <th>std</th>\n",
       "      <td>0.843107</td>\n",
       "      <td>0.794273</td>\n",
       "      <td>0.341334</td>\n",
       "      <td>0.488929</td>\n",
       "      <td>0.500856</td>\n",
       "      <td>0.212241</td>\n",
       "      <td>0.366733</td>\n",
       "      <td>0.998312</td>\n",
       "      <td>0.916508</td>\n",
       "      <td>1.295553</td>\n",
       "      <td>1.391954</td>\n",
       "      <td>7.896994</td>\n",
       "    </tr>\n",
       "    <tr>\n",
       "      <th>min</th>\n",
       "      <td>1.000000</td>\n",
       "      <td>0.000000</td>\n",
       "      <td>0.000000</td>\n",
       "      <td>0.000000</td>\n",
       "      <td>0.000000</td>\n",
       "      <td>0.000000</td>\n",
       "      <td>0.000000</td>\n",
       "      <td>1.000000</td>\n",
       "      <td>1.000000</td>\n",
       "      <td>1.000000</td>\n",
       "      <td>1.000000</td>\n",
       "      <td>0.000000</td>\n",
       "    </tr>\n",
       "    <tr>\n",
       "      <th>25%</th>\n",
       "      <td>1.000000</td>\n",
       "      <td>0.000000</td>\n",
       "      <td>0.000000</td>\n",
       "      <td>0.000000</td>\n",
       "      <td>0.000000</td>\n",
       "      <td>1.000000</td>\n",
       "      <td>1.000000</td>\n",
       "      <td>3.000000</td>\n",
       "      <td>1.000000</td>\n",
       "      <td>1.000000</td>\n",
       "      <td>3.000000</td>\n",
       "      <td>0.000000</td>\n",
       "    </tr>\n",
       "    <tr>\n",
       "      <th>50%</th>\n",
       "      <td>2.000000</td>\n",
       "      <td>0.000000</td>\n",
       "      <td>0.000000</td>\n",
       "      <td>1.000000</td>\n",
       "      <td>1.000000</td>\n",
       "      <td>1.000000</td>\n",
       "      <td>1.000000</td>\n",
       "      <td>3.000000</td>\n",
       "      <td>1.000000</td>\n",
       "      <td>2.000000</td>\n",
       "      <td>4.000000</td>\n",
       "      <td>4.000000</td>\n",
       "    </tr>\n",
       "    <tr>\n",
       "      <th>75%</th>\n",
       "      <td>2.000000</td>\n",
       "      <td>0.000000</td>\n",
       "      <td>0.000000</td>\n",
       "      <td>1.000000</td>\n",
       "      <td>1.000000</td>\n",
       "      <td>1.000000</td>\n",
       "      <td>1.000000</td>\n",
       "      <td>4.000000</td>\n",
       "      <td>2.000000</td>\n",
       "      <td>3.000000</td>\n",
       "      <td>5.000000</td>\n",
       "      <td>8.000000</td>\n",
       "    </tr>\n",
       "    <tr>\n",
       "      <th>max</th>\n",
       "      <td>4.000000</td>\n",
       "      <td>3.000000</td>\n",
       "      <td>1.000000</td>\n",
       "      <td>1.000000</td>\n",
       "      <td>1.000000</td>\n",
       "      <td>1.000000</td>\n",
       "      <td>1.000000</td>\n",
       "      <td>5.000000</td>\n",
       "      <td>5.000000</td>\n",
       "      <td>5.000000</td>\n",
       "      <td>5.000000</td>\n",
       "      <td>75.000000</td>\n",
       "    </tr>\n",
       "  </tbody>\n",
       "</table>\n",
       "</div>"
      ],
      "text/plain": [
       "        studytime    failures   schoolsup      famsup  activities      higher  \\\n",
       "count  276.000000  276.000000  276.000000  276.000000  276.000000  276.000000   \n",
       "mean     2.043478    0.358696    0.134058    0.608696    0.507246    0.952899   \n",
       "std      0.843107    0.794273    0.341334    0.488929    0.500856    0.212241   \n",
       "min      1.000000    0.000000    0.000000    0.000000    0.000000    0.000000   \n",
       "25%      1.000000    0.000000    0.000000    0.000000    0.000000    1.000000   \n",
       "50%      2.000000    0.000000    0.000000    1.000000    1.000000    1.000000   \n",
       "75%      2.000000    0.000000    0.000000    1.000000    1.000000    1.000000   \n",
       "max      4.000000    3.000000    1.000000    1.000000    1.000000    1.000000   \n",
       "\n",
       "         internet    freetime        Dalc        Walc      health    absences  \n",
       "count  276.000000  276.000000  276.000000  276.000000  276.000000  276.000000  \n",
       "mean     0.840580    3.224638    1.496377    2.315217    3.525362    5.431159  \n",
       "std      0.366733    0.998312    0.916508    1.295553    1.391954    7.896994  \n",
       "min      0.000000    1.000000    1.000000    1.000000    1.000000    0.000000  \n",
       "25%      1.000000    3.000000    1.000000    1.000000    3.000000    0.000000  \n",
       "50%      1.000000    3.000000    1.000000    2.000000    4.000000    4.000000  \n",
       "75%      1.000000    4.000000    2.000000    3.000000    5.000000    8.000000  \n",
       "max      1.000000    5.000000    5.000000    5.000000    5.000000   75.000000  "
      ]
     },
     "execution_count": 14,
     "metadata": {},
     "output_type": "execute_result"
    }
   ],
   "source": [
    "X_train.describe()"
   ]
  },
  {
   "cell_type": "code",
   "execution_count": 6,
   "metadata": {},
   "outputs": [
    {
     "name": "stdout",
     "output_type": "stream",
     "text": [
      "Missing training data:\n"
     ]
    },
    {
     "data": {
      "text/plain": [
       "studytime     0\n",
       "failures      0\n",
       "schoolsup     0\n",
       "famsup        0\n",
       "activities    0\n",
       "higher        0\n",
       "internet      0\n",
       "freetime      0\n",
       "Dalc          0\n",
       "Walc          0\n",
       "health        0\n",
       "absences      0\n",
       "dtype: int64"
      ]
     },
     "metadata": {},
     "output_type": "display_data"
    }
   ],
   "source": [
    "print(\"Missing training data:\")\n",
    "display(X_train.isnull().sum())"
   ]
  },
  {
   "cell_type": "markdown",
   "metadata": {},
   "source": [
    "Import scikit-learn and build a random forest classifer"
   ]
  },
  {
   "cell_type": "code",
   "execution_count": 7,
   "metadata": {},
   "outputs": [
    {
     "data": {
      "text/plain": [
       "RandomForestClassifier()"
      ]
     },
     "execution_count": 7,
     "metadata": {},
     "output_type": "execute_result"
    }
   ],
   "source": [
    "from sklearn.ensemble import RandomForestClassifier\n",
    "from sklearn.metrics import accuracy_score\n",
    "import sklearn\n",
    "\n",
    "clf = RandomForestClassifier(n_estimators=100)\n",
    "clf.fit(X_train, y_train)"
   ]
  },
  {
   "cell_type": "code",
   "execution_count": 8,
   "metadata": {
    "scrolled": false
   },
   "outputs": [
    {
     "name": "stdout",
     "output_type": "stream",
     "text": [
      "0.9824561403508771\n",
      "0.9927536231884058\n"
     ]
    }
   ],
   "source": [
    "pred = clf.predict(X_train)\n",
    "print(sklearn.metrics.f1_score(y_train, pred, average='binary'))\n",
    "print(accuracy_score(y_train, pred))"
   ]
  },
  {
   "cell_type": "code",
   "execution_count": 29,
   "metadata": {},
   "outputs": [
    {
     "name": "stdout",
     "output_type": "stream",
     "text": [
      "0.42857142857142855\n",
      "0.865546218487395\n"
     ]
    }
   ],
   "source": [
    "pred = clf.predict(X_test)\n",
    "print(sklearn.metrics.f1_score(y_test, pred, average='binary'))\n",
    "print(accuracy_score(y_test, pred))"
   ]
  },
  {
   "cell_type": "markdown",
   "metadata": {},
   "source": [
    "Export this model so we can use it in a microservice (flask api)"
   ]
  },
  {
   "cell_type": "code",
   "execution_count": 30,
   "metadata": {},
   "outputs": [
    {
     "data": {
      "text/plain": [
       "['./dockerfile/apps/model_new.pkl']"
      ]
     },
     "execution_count": 30,
     "metadata": {},
     "output_type": "execute_result"
    }
   ],
   "source": [
    "import joblib\n",
    "# modify the file path to where you want to save the model\n",
    "joblib.dump(clf, './dockerfile/apps/model_new.pkl')"
   ]
  },
  {
   "cell_type": "code",
   "execution_count": 19,
   "metadata": {},
   "outputs": [
    {
     "data": {
      "text/html": [
       "<div>\n",
       "<style scoped>\n",
       "    .dataframe tbody tr th:only-of-type {\n",
       "        vertical-align: middle;\n",
       "    }\n",
       "\n",
       "    .dataframe tbody tr th {\n",
       "        vertical-align: top;\n",
       "    }\n",
       "\n",
       "    .dataframe thead th {\n",
       "        text-align: right;\n",
       "    }\n",
       "</style>\n",
       "<table border=\"1\" class=\"dataframe\">\n",
       "  <thead>\n",
       "    <tr style=\"text-align: right;\">\n",
       "      <th></th>\n",
       "      <th>studytime</th>\n",
       "      <th>failures</th>\n",
       "      <th>schoolsup</th>\n",
       "      <th>famsup</th>\n",
       "      <th>activities</th>\n",
       "      <th>higher</th>\n",
       "      <th>internet</th>\n",
       "      <th>freetime</th>\n",
       "      <th>Dalc</th>\n",
       "      <th>Walc</th>\n",
       "      <th>health</th>\n",
       "      <th>absences</th>\n",
       "    </tr>\n",
       "  </thead>\n",
       "  <tbody>\n",
       "    <tr>\n",
       "      <th>0</th>\n",
       "      <td>4</td>\n",
       "      <td>1</td>\n",
       "      <td>1</td>\n",
       "      <td>1</td>\n",
       "      <td>1</td>\n",
       "      <td>1</td>\n",
       "      <td>1</td>\n",
       "      <td>2</td>\n",
       "      <td>1</td>\n",
       "      <td>1</td>\n",
       "      <td>5</td>\n",
       "      <td>0</td>\n",
       "    </tr>\n",
       "    <tr>\n",
       "      <th>1</th>\n",
       "      <td>1</td>\n",
       "      <td>4</td>\n",
       "      <td>0</td>\n",
       "      <td>0</td>\n",
       "      <td>0</td>\n",
       "      <td>0</td>\n",
       "      <td>1</td>\n",
       "      <td>2</td>\n",
       "      <td>3</td>\n",
       "      <td>3</td>\n",
       "      <td>2</td>\n",
       "      <td>50</td>\n",
       "    </tr>\n",
       "  </tbody>\n",
       "</table>\n",
       "</div>"
      ],
      "text/plain": [
       "   studytime  failures  schoolsup  famsup  activities  higher  internet  \\\n",
       "0          4         1          1       1           1       1         1   \n",
       "1          1         4          0       0           0       0         1   \n",
       "\n",
       "   freetime  Dalc  Walc  health  absences  \n",
       "0         2     1     1       5         0  \n",
       "1         2     3     3       2        50  "
      ]
     },
     "execution_count": 19,
     "metadata": {},
     "output_type": "execute_result"
    }
   ],
   "source": [
    "query_df = pd.DataFrame({'studytime': pd.Series([4,1]),\n",
    "                         'failures': pd.Series([1,4]),\n",
    "                         'schoolsup': pd.Series([1,0]),\n",
    "                         'famsup': pd.Series([1,0]),\n",
    "                         'activities': pd.Series([1,0]),\n",
    "                         'higher': pd.Series([1,0]),\n",
    "                         'internet': pd.Series([1,1]),\n",
    "                         'freetime': pd.Series([2,2]),\n",
    "                         'Dalc': pd.Series([1,3]),\n",
    "                         'Walc': pd.Series([1,3]),\n",
    "                         'health': pd.Series([5,2]),\n",
    "                         'absences': pd.Series([0,50])\n",
    "                        })\n",
    "query_df.head()"
   ]
  },
  {
   "cell_type": "code",
   "execution_count": 20,
   "metadata": {},
   "outputs": [
    {
     "name": "stdout",
     "output_type": "stream",
     "text": [
      "[0 0]\n"
     ]
    }
   ],
   "source": [
    "pred = clf.predict(query_df)\n",
    "print(pred)"
   ]
  }
 ],
 "metadata": {
  "interpreter": {
   "hash": "aee8b7b246df8f9039afb4144a1f6fd8d2ca17a180786b69acc140d282b71a49"
  },
  "kernelspec": {
   "display_name": "Python 3 (ipykernel)",
   "language": "python",
   "name": "python3"
  },
  "language_info": {
   "codemirror_mode": {
    "name": "ipython",
    "version": 3
   },
   "file_extension": ".py",
   "mimetype": "text/x-python",
   "name": "python",
   "nbconvert_exporter": "python",
   "pygments_lexer": "ipython3",
   "version": "3.9.0"
  }
 },
 "nbformat": 4,
 "nbformat_minor": 2
}
